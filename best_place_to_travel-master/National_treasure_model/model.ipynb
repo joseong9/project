{
 "cells": [
  {
   "cell_type": "code",
   "execution_count": 5,
   "id": "4bdef7b6-f1d7-4f12-898f-1aad2053eaec",
   "metadata": {},
   "outputs": [
    {
     "name": "stdout",
     "output_type": "stream",
     "text": [
      "/home/jovyan/National_treasure/Data_preprocessing/4_generated_images/images_generated/amplify_images\n"
     ]
    }
   ],
   "source": [
    "!pwd"
   ]
  },
  {
   "cell_type": "code",
   "execution_count": 6,
   "id": "2c0e9847-14d9-4043-a267-04224ab0b602",
   "metadata": {},
   "outputs": [
    {
     "name": "stdout",
     "output_type": "stream",
     "text": [
      "/home/jovyan\n"
     ]
    }
   ],
   "source": [
    "%cd ../../../../../"
   ]
  },
  {
   "cell_type": "code",
   "execution_count": 7,
   "id": "bb2a12a4-274b-430e-b7e1-aab53ad1d4f5",
   "metadata": {},
   "outputs": [
    {
     "name": "stdout",
     "output_type": "stream",
     "text": [
      "Found 12457 images belonging to 16 classes.\n"
     ]
    }
   ],
   "source": [
    "from tensorflow.keras.preprocessing.image import ImageDataGenerator\n",
    "\n",
    "\n",
    "gen = ImageDataGenerator(\n",
    "    rotation_range = 0.2,\n",
    "    width_shift_range = 0.15,\n",
    "    height_shift_range = 0.15,\n",
    "    shear_range=0.2,\n",
    "    rescale = 1./255\n",
    ")\n",
    "\n",
    "train, target = gen.flow_from_directory(\n",
    "    directory= 'National_treasure/Data_preprocessing/4_generated_images/images_generated/combine_original_generated',\n",
    "    batch_size= 828,\n",
    "    class_mode = 'sparse'\n",
    ").next()\n",
    "\n"
   ]
  },
  {
   "cell_type": "code",
   "execution_count": null,
   "id": "df60a62a-525d-4526-889a-5a7b7ab2516d",
   "metadata": {},
   "outputs": [],
   "source": [
    "from tensorflow import keras\n",
    "from tensorflow.keras import Sequential\n",
    "from tensorflow.keras.layers import Dense, Flatten, Dropout, Conv2D, MaxPool2D, BatchNormalization\n",
    "from tensorflow.keras.callbacks import ModelCheckpoint, EarlyStopping\n",
    "from tensorflow.keras.optimizers import Adam\n",
    "\n",
    "m = Sequential()\n",
    "m.add(Conv2D(32,kernel_size=3, activation='relu', padding='same', input_shape=(112,112,3)))\n",
    "m.add(Dropout(dropout_rate))\n",
    "m.add(BatchNormalization())\n",
    "m.add(Conv2D(neuron,kernel_size=3, activation='relu', padding='same'))\n",
    "m.add(Dropout(dropout_rate))\n",
    "m.add(BatchNormalization())\n",
    "m.add(MaxPool2D(2))\n",
    "\n",
    "m.add(Conv2D(neuron*2,kernel_size=3, activation='relu', padding='same'))\n",
    "m.add(Dropout(dropout_rate))\n",
    "m.add(BatchNormalization())\n",
    "m.add(Conv2D(neuron*2,kernel_size=3, activation='relu', padding='same'))\n",
    "m.add(Dropout(dropout_rate))\n",
    "m.add(BatchNormalization())\n",
    "m.add(MaxPool2D(2))\n",
    "\n",
    "m.add(Conv2D(neuron*4,kernel_size=3, activation='relu', padding='same'))\n",
    "m.add(Dropout(dropout_rate))\n",
    "m.add(BatchNormalization())\n",
    "m.add(Conv2D(neuron*4,kernel_size=3, activation='relu', padding='same'))\n",
    "m.add(Dropout(dropout_rate))\n",
    "m.add(BatchNormalization())\n",
    "m.add(Conv2D(neuron*4,kernel_size=3, activation='relu', padding='same'))\n",
    "m.add(Dropout(dropout_rate))\n",
    "m.add(BatchNormalization())\n",
    "m.add(MaxPool2D(2))\n",
    "\n",
    "m.add(Conv2D(neuron*8,kernel_size=3, activation='relu', padding='same'))\n",
    "m.add(Dropout(dropout_rate))\n",
    "m.add(BatchNormalization())\n",
    "m.add(Conv2D(neuron*8,kernel_size=3, activation='relu', padding='same'))\n",
    "m.add(Dropout(dropout_rate))\n",
    "m.add(BatchNormalization())\n",
    "m.add(Conv2D(neuron*8,kernel_size=3, activation='relu', padding='same'))\n",
    "m.add(Dropout(dropout_rate))\n",
    "m.add(BatchNormalization())\n",
    "m.add(MaxPool2D(2))\n",
    "\n",
    "m.add(Conv2D(neuron*8,kernel_size=3, activation='relu', padding='same'))\n",
    "m.add(Dropout(dropout_rate))\n",
    "m.add(BatchNormalization())\n",
    "m.add(Conv2D(neuron*8,kernel_size=3, activation='relu', padding='same'))\n",
    "m.add(Dropout(dropout_rate))\n",
    "m.add(BatchNormalization())\n",
    "m.add(Conv2D(neuron*8,kernel_size=3, activation='relu', padding='same'))\n",
    "m.add(Dropout(dropout_rate))\n",
    "m.add(BatchNormalization())\n",
    "m.add(MaxPool2D(2))\n",
    "\n",
    "m.add(Flatten())\n",
    "m.add(Dense(15,activation='softmax'))\n",
    "m.compile(optimizer=Adam(learning_rate = learning_rate), loss='categorical_crossentropy', metrics='accuracy')\n",
    "m.summary()\n"
   ]
  }
 ],
 "metadata": {
  "kernelspec": {
   "display_name": "Python 3 (ipykernel)",
   "language": "python",
   "name": "python3"
  },
  "language_info": {
   "codemirror_mode": {
    "name": "ipython",
    "version": 3
   },
   "file_extension": ".py",
   "mimetype": "text/x-python",
   "name": "python",
   "nbconvert_exporter": "python",
   "pygments_lexer": "ipython3",
   "version": "3.10.5"
  }
 },
 "nbformat": 4,
 "nbformat_minor": 5
}
